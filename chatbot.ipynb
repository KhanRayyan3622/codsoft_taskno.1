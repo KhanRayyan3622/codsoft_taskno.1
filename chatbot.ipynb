{
 "cells": [
  {
   "cell_type": "markdown",
   "id": "7e5072d4",
   "metadata": {
    "scrolled": true
   },
   "source": [
    "# TASK 1: CHATBOT WITH RULE-BASED RESPONSES"
   ]
  },
  {
   "cell_type": "code",
   "execution_count": null,
   "id": "1e7fea52",
   "metadata": {},
   "outputs": [],
   "source": [
    "# Build a simple chatbot that responds to user inputs based on\n",
    "# predefined rules. Use if-else statements or pattern matching\n",
    "# techniques to identify user queries and provide appropriate\n",
    "# responses. This will give you a basic understanding of natural\n",
    "# language processing and conversation flow."
   ]
  },
  {
   "cell_type": "code",
   "execution_count": 8,
   "id": "06d6e3fa",
   "metadata": {
    "scrolled": false
   },
   "outputs": [
    {
     "name": "stdout",
     "output_type": "stream",
     "text": [
      "Hello! Welcome to our customer support. What's your name?\n",
      "Rayyan\n",
      "Hi Rayyan, how can I assist you today?\n",
      "anything about your product?\n",
      "Please tell me your query: i'm interested in knowing about your product\n",
      "Our product is topnotch and has excellent results!\n",
      "good, i expected that\n",
      "My apologies, can you provide more details?\n",
      "yeah sure\n",
      "I'm sorry, I didn't quite understand that. Can you please rephrase?\n",
      "i want to know about product\n",
      "Our product is topnotch and has excellent results!\n",
      "how i know about my product\n",
      "Our product is topnotch and has excellent results!\n",
      "returnpolicy\n",
      "Please ensure the product is in its original condition when returning.\n",
      "help\n",
      "My apologies, can you provide more details?\n",
      "help\n",
      "My apologies, can you provide more details?\n",
      "bye\n",
      "thanks for reaching out, have a great day!\n"
     ]
    }
   ],
   "source": [
    "import random\n",
    "import re\n",
    "\n",
    "class SupportBot:\n",
    "    negative_res = (\"no\", \"nope\", \"nahi\", \"nay\", \"not a chance\", \"sorry\")\n",
    "    exit_commands = (\"end\", \"quit\", \"pause\", \"exit\", \"goodbye\", \"bye\", \"farewell\")\n",
    "\n",
    "    def __init__(self):\n",
    "        self.support_responses = {\n",
    "            'ask_about_product': r'.*\\s*product.*',\n",
    "            'technical_support': r'.*technical.*support.*',\n",
    "            'about_returns': r'.*\\s*returnpolicy.*',\n",
    "            'general_query': r'.*how.*help.*',\n",
    "        }\n",
    "\n",
    "    def greet(self):\n",
    "        self.name = input(\"Hello! Welcome to our customer support. What's your name?\\n\")\n",
    "        will_help = input(f\"Hi {self.name}, how can I assist you today?\\n\")\n",
    "        if will_help in self.negative_res:\n",
    "            print(\"Alright, have a great day!\")\n",
    "            return\n",
    "        self.chat()\n",
    "\n",
    "    def make_exit(self, reply):\n",
    "        for command in self.exit_commands:\n",
    "            if command in reply:\n",
    "                print(\"thanks for reaching out, have a great day!\")\n",
    "                return True\n",
    "        return False\n",
    "\n",
    "    def chat(self):\n",
    "        reply = input(\"Please tell me your query: \").lower()\n",
    "        while not self.make_exit(reply):\n",
    "            reply = input(self.match_reply(reply))\n",
    "\n",
    "    def match_reply(self, reply):\n",
    "        for intent, regex_pattern in self.support_responses.items():\n",
    "            found_match = re.search(regex_pattern, reply)\n",
    "            if found_match and intent == 'ask_about_product':\n",
    "                return self.ask_about_product()\n",
    "            elif found_match and intent == 'technical_support':\n",
    "                return self.technical_support()\n",
    "            elif found_match and intent == 'about_returns':\n",
    "                return self.about_returns()\n",
    "            elif found_match and intent == 'general_query':\n",
    "                return self.general_query()\n",
    "        return self.no_match_intent()\n",
    "\n",
    "    def ask_about_product(self):\n",
    "        responses = [\"Our product is topnotch and has excellent results!\\n\",\n",
    "                     \"You can find all product details on our website.\\n\"]\n",
    "        return random.choice(responses)\n",
    "\n",
    "    def technical_support(self):\n",
    "        responses = [\"please visit our technical support page for detailed assistance.\\n\",\n",
    "                     \"You can also call our tech support helpline for immediate help.\\n\"]\n",
    "        return random.choice(responses)\n",
    "\n",
    "    def about_returns(self):\n",
    "        responses = [\"we have a 3-day return policy.\\n\",\n",
    "                     \"Please ensure the product is in its original condition when returning.\\n\"]\n",
    "        return random.choice(responses)\n",
    "\n",
    "    def general_query(self):\n",
    "        responses = [\"How can I assist you further?\\n\",\n",
    "                     \"Is there anything else you'd like to know?\\n\"]\n",
    "        return random.choice(responses)\n",
    "\n",
    "    def no_match_intent(self):\n",
    "        responses = [\"I'm sorry, I didn't quite understand that. Can you please rephrase?\\n\",\n",
    "                     \"My apologies, can you provide more details?\\n\"]\n",
    "        return random.choice(responses)\n",
    "\n",
    "bot = SupportBot()\n",
    "bot.greet()\n"
   ]
  },
  {
   "cell_type": "code",
   "execution_count": null,
   "id": "5c73a49d",
   "metadata": {},
   "outputs": [],
   "source": []
  }
 ],
 "metadata": {
  "kernelspec": {
   "display_name": "Python 3 (ipykernel)",
   "language": "python",
   "name": "python3"
  },
  "language_info": {
   "codemirror_mode": {
    "name": "ipython",
    "version": 3
   },
   "file_extension": ".py",
   "mimetype": "text/x-python",
   "name": "python",
   "nbconvert_exporter": "python",
   "pygments_lexer": "ipython3",
   "version": "3.11.5"
  }
 },
 "nbformat": 4,
 "nbformat_minor": 5
}
